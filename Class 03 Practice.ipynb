{
 "cells": [
  {
   "cell_type": "code",
   "execution_count": 2,
   "id": "86b7cd8e-42e6-43c1-bec7-e186fd91087f",
   "metadata": {},
   "outputs": [
    {
     "name": "stdin",
     "output_type": "stream",
     "text": [
      "Enter you Good Name Muhammad Anas\n"
     ]
    },
    {
     "data": {
      "text/plain": [
       "'Muhammad Anas'"
      ]
     },
     "execution_count": 2,
     "metadata": {},
     "output_type": "execute_result"
    }
   ],
   "source": [
    "input(\"Enter you Good Name\")"
   ]
  },
  {
   "cell_type": "markdown",
   "id": "21472a8b-319b-4d89-a57c-e83f7ff0d70c",
   "metadata": {
    "jp-MarkdownHeadingCollapsed": true
   },
   "source": [
    "### Concatenation"
   ]
  },
  {
   "cell_type": "code",
   "execution_count": 5,
   "id": "4dcb6255-8692-45ae-bb90-9f00f077fecf",
   "metadata": {},
   "outputs": [],
   "source": [
    "f_name = \"Muhamamd\"\n",
    "l_name = \"Anas\"\n",
    "age = 24\n",
    "weight = 45.6\n",
    "is_student = True"
   ]
  },
  {
   "cell_type": "code",
   "execution_count": 6,
   "id": "2d923f44-23fe-40ca-8c6a-2c5a6e1cf9c2",
   "metadata": {},
   "outputs": [
    {
     "data": {
      "text/plain": [
       "'SMIT Staudentf_namel_name'"
      ]
     },
     "execution_count": 6,
     "metadata": {},
     "output_type": "execute_result"
    }
   ],
   "source": [
    "\"SMIT Staudent\" + \"f_name\" + \"l_name\""
   ]
  },
  {
   "cell_type": "code",
   "execution_count": 8,
   "id": "c9a6cb8c-d523-4094-b2d4-862c51c88e34",
   "metadata": {},
   "outputs": [
    {
     "name": "stdout",
     "output_type": "stream",
     "text": [
      "f_name\n"
     ]
    }
   ],
   "source": [
    "print(\"f_name\")"
   ]
  },
  {
   "cell_type": "code",
   "execution_count": 9,
   "id": "fea11c4c-8bfe-4cba-bfd8-990246552a68",
   "metadata": {},
   "outputs": [
    {
     "data": {
      "text/plain": [
       "'Student of SMIT Muhamamd Anas'"
      ]
     },
     "execution_count": 9,
     "metadata": {},
     "output_type": "execute_result"
    }
   ],
   "source": [
    "f\"Student of SMIT {f_name} {l_name}\""
   ]
  },
  {
   "cell_type": "code",
   "execution_count": 10,
   "id": "95991915-d0a0-4d08-8051-41425d7164e9",
   "metadata": {},
   "outputs": [
    {
     "data": {
      "text/plain": [
       "'Student of SMIT Muhamamd Anas'"
      ]
     },
     "execution_count": 10,
     "metadata": {},
     "output_type": "execute_result"
    }
   ],
   "source": [
    "f'Student of SMIT {f_name} {l_name}'"
   ]
  },
  {
   "cell_type": "code",
   "execution_count": 11,
   "id": "4045751d-f532-4cc7-9959-bb0a99fa81fb",
   "metadata": {},
   "outputs": [
    {
     "data": {
      "text/plain": [
       "'Student of SMIT Anas Muhamamd'"
      ]
     },
     "execution_count": 11,
     "metadata": {},
     "output_type": "execute_result"
    }
   ],
   "source": [
    "\"Student of SMIT {1} {0}\".format(f_name, l_name)"
   ]
  },
  {
   "cell_type": "markdown",
   "id": "d4b3b320-b5cf-4761-bc48-e2876bc13d63",
   "metadata": {},
   "source": [
    "### If Else Elif Statements"
   ]
  },
  {
   "cell_type": "code",
   "execution_count": 13,
   "id": "81ad1413-d862-4b27-be0a-e1a424cdfa57",
   "metadata": {},
   "outputs": [
    {
     "name": "stdin",
     "output_type": "stream",
     "text": [
      "Enter your Marks 90\n"
     ]
    },
    {
     "name": "stdout",
     "output_type": "stream",
     "text": [
      "Your succesfully Promoted to Next Module\n"
     ]
    }
   ],
   "source": [
    "marks = int(input(\"Enter your Marks\"))\n",
    "\n",
    "if marks >= 80:\n",
    "    print(\"Your succesfully Promoted to Next Module\")\n",
    "elif marks >= 60:\n",
    "    print(\"You are promoted but need more focus in this module\")\n",
    "else:\n",
    "    print(\"Never Give Up Focus on your Studies\")"
   ]
  },
  {
   "cell_type": "code",
   "execution_count": null,
   "id": "6d43a5c1-45b5-47f8-bb1d-bdbd97e1bd62",
   "metadata": {},
   "outputs": [],
   "source": []
  }
 ],
 "metadata": {
  "kernelspec": {
   "display_name": "Python 3 (ipykernel)",
   "language": "python",
   "name": "python3"
  },
  "language_info": {
   "codemirror_mode": {
    "name": "ipython",
    "version": 3
   },
   "file_extension": ".py",
   "mimetype": "text/x-python",
   "name": "python",
   "nbconvert_exporter": "python",
   "pygments_lexer": "ipython3",
   "version": "3.11.7"
  }
 },
 "nbformat": 4,
 "nbformat_minor": 5
}
