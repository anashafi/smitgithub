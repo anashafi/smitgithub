{
 "cells": [
  {
   "cell_type": "code",
   "execution_count": 1,
   "id": "6b3d5ea8-ab08-4408-8188-73b22cc4d446",
   "metadata": {},
   "outputs": [
    {
     "name": "stdout",
     "output_type": "stream",
     "text": [
      "Hello World\n"
     ]
    }
   ],
   "source": [
    "# comments\n",
    "# print is builten function, its take arguments/parameter to print on console Shift+Tab to see funtions arguments\n",
    "print(\"Hello World\") "
   ]
  },
  {
   "cell_type": "markdown",
   "id": "d7f87269-2b6f-46a3-a633-61159582553c",
   "metadata": {},
   "source": [
    "## Variables\n",
    "\n",
    "1. String\n",
    "2. Float\n",
    "3. boolean\n",
    "4. Integar"
   ]
  },
  {
   "cell_type": "code",
   "execution_count": 2,
   "id": "7d2b987d-fef4-49b8-a0c8-a9771425c4b1",
   "metadata": {},
   "outputs": [
    {
     "name": "stdout",
     "output_type": "stream",
     "text": [
      "Anas\n",
      "<class 'str'>\n"
     ]
    },
    {
     "data": {
      "text/plain": [
       "2919073787888"
      ]
     },
     "execution_count": 2,
     "metadata": {},
     "output_type": "execute_result"
    }
   ],
   "source": [
    "name = \"Anas\" # String Variables\n",
    "print(name)\n",
    "print(type(name))\n",
    "id(name)"
   ]
  },
  {
   "cell_type": "code",
   "execution_count": 3,
   "id": "180b75cc-faf5-4734-bb69-de412106bff4",
   "metadata": {},
   "outputs": [
    {
     "name": "stdout",
     "output_type": "stream",
     "text": [
      "Shafi\n"
     ]
    }
   ],
   "source": [
    "last_name = 'Shafi' # used single quotatiom\n",
    "print(last_name)"
   ]
  },
  {
   "cell_type": "code",
   "execution_count": 4,
   "id": "4afbba63-0b3b-4936-ba8e-af5b37bb7edd",
   "metadata": {},
   "outputs": [
    {
     "name": "stdout",
     "output_type": "stream",
     "text": [
      "Anas\n",
      "2919073787888\n"
     ]
    }
   ],
   "source": [
    "print(name)\n",
    "print(id(name))"
   ]
  },
  {
   "cell_type": "code",
   "execution_count": 26,
   "id": "5ca6e2d2-e1a6-491d-b4e8-92c602d55201",
   "metadata": {},
   "outputs": [
    {
     "name": "stdout",
     "output_type": "stream",
     "text": [
      "Anas said,\"He's coming today\"\n"
     ]
    }
   ],
   "source": [
    "print(\"Anas said,\\\"He's coming today\\\"\")"
   ]
  },
  {
   "cell_type": "code",
   "execution_count": 28,
   "id": "4c806dc2-53a2-4748-a9b4-9d50733d78b5",
   "metadata": {},
   "outputs": [],
   "source": [
    "#Multi Line String syntax ''' paragrapg '''\n",
    "poem = '''Humpty Dumpty sat on a wall\n",
    "Humpty Dumpty had a great fall\n",
    "All the king's horses and all the king's men\n",
    "Couldn't put Humpty together again'''"
   ]
  },
  {
   "cell_type": "code",
   "execution_count": 29,
   "id": "d16acacc-35df-48a1-afd5-dcac199cdce8",
   "metadata": {},
   "outputs": [
    {
     "name": "stdout",
     "output_type": "stream",
     "text": [
      "Humpty Dumpty sat on a wall\n",
      "Humpty Dumpty had a great fall\n",
      "All the king's horses and all the king's men\n",
      "Couldn't put Humpty together again\n"
     ]
    }
   ],
   "source": [
    "print(poem)"
   ]
  },
  {
   "cell_type": "code",
   "execution_count": null,
   "id": "20220a85-8c52-44f7-8ed4-53acbe9a0aa3",
   "metadata": {},
   "outputs": [],
   "source": []
  },
  {
   "cell_type": "code",
   "execution_count": 8,
   "id": "6d0bbe61-ec1f-41b4-a57e-4e8d63045a54",
   "metadata": {},
   "outputs": [
    {
     "name": "stdout",
     "output_type": "stream",
     "text": [
      "Anas\n"
     ]
    }
   ],
   "source": [
    "print(name)"
   ]
  },
  {
   "cell_type": "code",
   "execution_count": 9,
   "id": "d4f31ae2-e3e2-4b78-b17c-1d5c75e4ed05",
   "metadata": {},
   "outputs": [
    {
     "data": {
      "text/plain": [
       "1643400214896"
      ]
     },
     "execution_count": 9,
     "metadata": {},
     "output_type": "execute_result"
    }
   ],
   "source": [
    "id(name)"
   ]
  },
  {
   "cell_type": "code",
   "execution_count": 10,
   "id": "d72e2955-c3dd-47e8-b210-44bbc5fbe18a",
   "metadata": {},
   "outputs": [
    {
     "name": "stdout",
     "output_type": "stream",
     "text": [
      "Anas\n"
     ]
    },
    {
     "data": {
      "text/plain": [
       "1643400214896"
      ]
     },
     "execution_count": 10,
     "metadata": {},
     "output_type": "execute_result"
    }
   ],
   "source": [
    "print(name)\n",
    "id(name) # Last Line in Jupyter Print by Default"
   ]
  },
  {
   "cell_type": "code",
   "execution_count": 14,
   "id": "586128c9-6896-4501-a7f1-3a7e4d53151f",
   "metadata": {},
   "outputs": [
    {
     "name": "stdout",
     "output_type": "stream",
     "text": [
      "24\n"
     ]
    },
    {
     "data": {
      "text/plain": [
       "140710281070088"
      ]
     },
     "execution_count": 14,
     "metadata": {},
     "output_type": "execute_result"
    }
   ],
   "source": [
    "age = 24 # Integar Variables\n",
    "print(age)\n",
    "id(age)"
   ]
  },
  {
   "cell_type": "code",
   "execution_count": 15,
   "id": "1aa53d70-1eda-42cd-820e-01429ddaa16e",
   "metadata": {},
   "outputs": [
    {
     "ename": "NameError",
     "evalue": "name 'weight' is not defined",
     "output_type": "error",
     "traceback": [
      "\u001b[1;31m---------------------------------------------------------------------------\u001b[0m",
      "\u001b[1;31mNameError\u001b[0m                                 Traceback (most recent call last)",
      "Cell \u001b[1;32mIn[15], line 2\u001b[0m\n\u001b[0;32m      1\u001b[0m weigth \u001b[38;5;241m=\u001b[39m \u001b[38;5;241m65\u001b[39m\n\u001b[1;32m----> 2\u001b[0m \u001b[38;5;28mprint\u001b[39m(weight)\n\u001b[0;32m      3\u001b[0m \u001b[38;5;28mid\u001b[39m(weight)\n",
      "\u001b[1;31mNameError\u001b[0m: name 'weight' is not defined"
     ]
    }
   ],
   "source": [
    "weigth = 65\n",
    "print(weight)\n",
    "id(weight)"
   ]
  },
  {
   "cell_type": "code",
   "execution_count": 31,
   "id": "0d005031-ed13-4e31-a956-aa977ece5aa1",
   "metadata": {},
   "outputs": [
    {
     "name": "stdout",
     "output_type": "stream",
     "text": [
      "65.5\n",
      "<class 'int'>\n"
     ]
    },
    {
     "data": {
      "text/plain": [
       "1643398992368"
      ]
     },
     "execution_count": 31,
     "metadata": {},
     "output_type": "execute_result"
    }
   ],
   "source": [
    "weight = 65.5 #Float Data Type\n",
    "print(weight)\n",
    "print(type(age))\n",
    "id(weight)"
   ]
  },
  {
   "cell_type": "code",
   "execution_count": 33,
   "id": "2df639b2-de88-45e7-96d6-bdd2e60e0226",
   "metadata": {},
   "outputs": [
    {
     "name": "stdout",
     "output_type": "stream",
     "text": [
      "True\n",
      "<class 'bool'>\n"
     ]
    },
    {
     "data": {
      "text/plain": [
       "140710279596608"
      ]
     },
     "execution_count": 33,
     "metadata": {},
     "output_type": "execute_result"
    }
   ],
   "source": [
    "is_present = True #Boolean Data Type\n",
    "print(is_present)\n",
    "print(type(is_present))\n",
    "id(is_present)"
   ]
  },
  {
   "cell_type": "markdown",
   "id": "188a3cb7-b7c1-42af-8b2a-09ebd53fd537",
   "metadata": {},
   "source": [
    "## Operator"
   ]
  },
  {
   "cell_type": "code",
   "execution_count": 34,
   "id": "812f3f4d-9678-4088-b456-191265a44102",
   "metadata": {},
   "outputs": [
    {
     "data": {
      "text/plain": [
       "9"
      ]
     },
     "execution_count": 34,
     "metadata": {},
     "output_type": "execute_result"
    }
   ],
   "source": [
    "3*3"
   ]
  },
  {
   "cell_type": "markdown",
   "id": "89a68218-94b7-45d0-8f5d-e920db5f8164",
   "metadata": {},
   "source": [
    "6/4"
   ]
  },
  {
   "cell_type": "markdown",
   "id": "b80f69f9-6cf7-44d9-aeeb-647a3e537d99",
   "metadata": {},
   "source": [
    "3**2 "
   ]
  },
  {
   "cell_type": "code",
   "execution_count": 35,
   "id": "09f8c7f8-ea39-4748-83f2-4911a2075ce5",
   "metadata": {},
   "outputs": [
    {
     "data": {
      "text/plain": [
       "0"
      ]
     },
     "execution_count": 35,
     "metadata": {},
     "output_type": "execute_result"
    }
   ],
   "source": [
    "3-3"
   ]
  },
  {
   "cell_type": "code",
   "execution_count": 36,
   "id": "863334e5-ac57-4259-9736-381e42c3b207",
   "metadata": {},
   "outputs": [
    {
     "data": {
      "text/plain": [
       "9"
      ]
     },
     "execution_count": 36,
     "metadata": {},
     "output_type": "execute_result"
    }
   ],
   "source": [
    "3**2 # Power"
   ]
  },
  {
   "cell_type": "code",
   "execution_count": 37,
   "id": "63856c8c-679b-4f0d-aed6-04290afa5cc9",
   "metadata": {},
   "outputs": [
    {
     "data": {
      "text/plain": [
       "1.5"
      ]
     },
     "execution_count": 37,
     "metadata": {},
     "output_type": "execute_result"
    }
   ],
   "source": [
    "6/4"
   ]
  },
  {
   "cell_type": "code",
   "execution_count": 39,
   "id": "3206ad9f-c408-477a-9a52-c296e56f26c9",
   "metadata": {},
   "outputs": [
    {
     "data": {
      "text/plain": [
       "2"
      ]
     },
     "execution_count": 39,
     "metadata": {},
     "output_type": "execute_result"
    }
   ],
   "source": [
    "5//2 # Flooe --> round of Lower Point"
   ]
  },
  {
   "cell_type": "code",
   "execution_count": 40,
   "id": "cd8b5dbe-b708-4e22-b448-ba3e920c8301",
   "metadata": {},
   "outputs": [
    {
     "data": {
      "text/plain": [
       "0"
      ]
     },
     "execution_count": 40,
     "metadata": {},
     "output_type": "execute_result"
    }
   ],
   "source": [
    "2//5"
   ]
  },
  {
   "cell_type": "code",
   "execution_count": 41,
   "id": "a592b9f4-d03d-4d99-98ee-b4133afb054f",
   "metadata": {},
   "outputs": [
    {
     "ename": "SyntaxError",
     "evalue": "invalid syntax (3069390103.py, line 1)",
     "output_type": "error",
     "traceback": [
      "\u001b[1;36m  Cell \u001b[1;32mIn[41], line 1\u001b[1;36m\u001b[0m\n\u001b[1;33m    5///2\u001b[0m\n\u001b[1;37m       ^\u001b[0m\n\u001b[1;31mSyntaxError\u001b[0m\u001b[1;31m:\u001b[0m invalid syntax\n"
     ]
    }
   ],
   "source": [
    "5///2"
   ]
  },
  {
   "cell_type": "code",
   "execution_count": 42,
   "id": "218ce4ba-49d0-43df-a443-6cbca97863eb",
   "metadata": {},
   "outputs": [
    {
     "data": {
      "text/plain": [
       "2"
      ]
     },
     "execution_count": 42,
     "metadata": {},
     "output_type": "execute_result"
    }
   ],
   "source": [
    "int(5//2)"
   ]
  },
  {
   "cell_type": "code",
   "execution_count": 48,
   "id": "6fe2670f-8364-49f8-afae-8d4e91020029",
   "metadata": {},
   "outputs": [
    {
     "data": {
      "text/plain": [
       "3"
      ]
     },
     "execution_count": 48,
     "metadata": {},
     "output_type": "execute_result"
    }
   ],
   "source": [
    "5//2+1"
   ]
  },
  {
   "cell_type": "code",
   "execution_count": 51,
   "id": "501ac36f-aeb7-44e4-a888-214660478c59",
   "metadata": {},
   "outputs": [
    {
     "name": "stdout",
     "output_type": "stream",
     "text": [
      "result is 3\n"
     ]
    }
   ],
   "source": [
    "#ciel --> round off to upper point\n",
    "import math\n",
    "\n",
    "x = 5/2\n",
    "y= (math.ceil(x))\n",
    "print(\"result is\",y)"
   ]
  },
  {
   "cell_type": "markdown",
   "id": "b57fc8ad-765c-4f6d-be61-85cd77daf201",
   "metadata": {},
   "source": [
    "## Keywords\n",
    "\n",
    "- True, False\n",
    "- import\n",
    "- def,if,else\n",
    "  "
   ]
  },
  {
   "cell_type": "markdown",
   "id": "98b153af-4a8d-4f7c-b53c-b361f5fe7737",
   "metadata": {},
   "source": [
    "## Some more Operators"
   ]
  },
  {
   "cell_type": "code",
   "execution_count": 52,
   "id": "18ea7fe0-6f74-40d8-ad21-7d34149fd587",
   "metadata": {},
   "outputs": [
    {
     "data": {
      "text/plain": [
       "2.25"
      ]
     },
     "execution_count": 52,
     "metadata": {},
     "output_type": "execute_result"
    }
   ],
   "source": [
    "9/4"
   ]
  },
  {
   "cell_type": "code",
   "execution_count": 53,
   "id": "07af7fff-18b5-4da1-984f-4368a4a7e1d4",
   "metadata": {},
   "outputs": [
    {
     "data": {
      "text/plain": [
       "2"
      ]
     },
     "execution_count": 53,
     "metadata": {},
     "output_type": "execute_result"
    }
   ],
   "source": [
    "9//4"
   ]
  },
  {
   "cell_type": "code",
   "execution_count": 54,
   "id": "fb8dbe5c-e4c6-46c9-a02b-cd14968ee03c",
   "metadata": {},
   "outputs": [
    {
     "data": {
      "text/plain": [
       "1"
      ]
     },
     "execution_count": 54,
     "metadata": {},
     "output_type": "execute_result"
    }
   ],
   "source": [
    "9%4 # its modulua operator & it return reminder"
   ]
  },
  {
   "cell_type": "code",
   "execution_count": 58,
   "id": "482a9f18-5bdf-4934-b942-ade0e8f0c650",
   "metadata": {},
   "outputs": [],
   "source": [
    "age -=1"
   ]
  },
  {
   "cell_type": "code",
   "execution_count": 57,
   "id": "dda951ed-4633-41e3-a468-1619dc6f833f",
   "metadata": {},
   "outputs": [
    {
     "data": {
      "text/plain": [
       "29"
      ]
     },
     "execution_count": 57,
     "metadata": {},
     "output_type": "execute_result"
    }
   ],
   "source": [
    "age"
   ]
  },
  {
   "cell_type": "code",
   "execution_count": 59,
   "id": "c5aff0a4-c068-4b25-ab44-4eda1355e007",
   "metadata": {},
   "outputs": [
    {
     "data": {
      "text/plain": [
       "28"
      ]
     },
     "execution_count": 59,
     "metadata": {},
     "output_type": "execute_result"
    }
   ],
   "source": [
    "age"
   ]
  },
  {
   "cell_type": "code",
   "execution_count": 60,
   "id": "91076234-f6dc-4498-99ff-e56c25dce54b",
   "metadata": {},
   "outputs": [],
   "source": [
    "age = age - 5"
   ]
  },
  {
   "cell_type": "code",
   "execution_count": 61,
   "id": "b7de203e-5277-4758-8300-0dbcaa16a0e6",
   "metadata": {},
   "outputs": [
    {
     "data": {
      "text/plain": [
       "23"
      ]
     },
     "execution_count": 61,
     "metadata": {},
     "output_type": "execute_result"
    }
   ],
   "source": [
    "age"
   ]
  },
  {
   "cell_type": "code",
   "execution_count": 62,
   "id": "0185cc39-a9dc-455f-b71d-e7ebc792a892",
   "metadata": {},
   "outputs": [],
   "source": [
    "age -=1"
   ]
  },
  {
   "cell_type": "code",
   "execution_count": 63,
   "id": "76774c04-c76d-49be-9e10-8b827fe52b97",
   "metadata": {},
   "outputs": [
    {
     "data": {
      "text/plain": [
       "22"
      ]
     },
     "execution_count": 63,
     "metadata": {},
     "output_type": "execute_result"
    }
   ],
   "source": [
    "age"
   ]
  },
  {
   "cell_type": "code",
   "execution_count": 64,
   "id": "729409f1-8ad3-4833-8999-13f295efb921",
   "metadata": {},
   "outputs": [],
   "source": [
    "age /=2"
   ]
  },
  {
   "cell_type": "code",
   "execution_count": 65,
   "id": "e699e6d9-7ee5-476a-8f45-21397ddda35b",
   "metadata": {},
   "outputs": [
    {
     "data": {
      "text/plain": [
       "11.0"
      ]
     },
     "execution_count": 65,
     "metadata": {},
     "output_type": "execute_result"
    }
   ],
   "source": [
    "age"
   ]
  },
  {
   "cell_type": "code",
   "execution_count": 66,
   "id": "b1de44b8-aa03-4e6d-abcc-d168348293e4",
   "metadata": {},
   "outputs": [],
   "source": [
    "age *=2"
   ]
  },
  {
   "cell_type": "code",
   "execution_count": 67,
   "id": "c89a1d8c-121b-4bc8-97cb-9766b428ef89",
   "metadata": {},
   "outputs": [
    {
     "data": {
      "text/plain": [
       "22.0"
      ]
     },
     "execution_count": 67,
     "metadata": {},
     "output_type": "execute_result"
    }
   ],
   "source": [
    "age"
   ]
  },
  {
   "cell_type": "markdown",
   "id": "e02de127-7825-4163-a155-a740d2e6c625",
   "metadata": {},
   "source": [
    "## Expressions\n",
    "\n",
    "- D = DIVIDE\n",
    "- MULTIPLY\n",
    "- ADDTION\n",
    "- SUBTRACTION"
   ]
  },
  {
   "cell_type": "code",
   "execution_count": 68,
   "id": "ae623a33-c308-4446-afd4-3ccfb6bb8d4c",
   "metadata": {},
   "outputs": [
    {
     "data": {
      "text/plain": [
       "-4"
      ]
     },
     "execution_count": 68,
     "metadata": {},
     "output_type": "execute_result"
    }
   ],
   "source": [
    "11+33-24*2"
   ]
  },
  {
   "cell_type": "code",
   "execution_count": 69,
   "id": "51a73611-f9a8-4d3c-8bea-fafb2cff850d",
   "metadata": {},
   "outputs": [
    {
     "data": {
      "text/plain": [
       "31"
      ]
     },
     "execution_count": 69,
     "metadata": {},
     "output_type": "execute_result"
    }
   ],
   "source": [
    "11+(33-23)*2"
   ]
  },
  {
   "cell_type": "code",
   "execution_count": 70,
   "id": "a80b328c-88da-4e74-bbea-1609c657430a",
   "metadata": {},
   "outputs": [
    {
     "data": {
      "text/plain": [
       "25"
      ]
     },
     "execution_count": 70,
     "metadata": {},
     "output_type": "execute_result"
    }
   ],
   "source": [
    "11+(33-23)+2**2 # First Sp;ve Power Wxponential"
   ]
  },
  {
   "cell_type": "code",
   "execution_count": 71,
   "id": "05755188-649e-4e7c-82b1-d473850a744e",
   "metadata": {},
   "outputs": [
    {
     "data": {
      "text/plain": [
       "46"
      ]
     },
     "execution_count": 71,
     "metadata": {},
     "output_type": "execute_result"
    }
   ],
   "source": [
    "(11+(33-23)+2)*2"
   ]
  },
  {
   "cell_type": "markdown",
   "id": "e4d2b9ec-0ded-4ec5-b507-4458c3f9faa1",
   "metadata": {},
   "source": [
    "## Concatenation"
   ]
  },
  {
   "cell_type": "code",
   "execution_count": 73,
   "id": "ca7a4009-0933-40d4-8f17-605a6b6970b0",
   "metadata": {},
   "outputs": [
    {
     "data": {
      "text/plain": [
       "'Anas Shafi'"
      ]
     },
     "execution_count": 73,
     "metadata": {},
     "output_type": "execute_result"
    }
   ],
   "source": [
    "\"Anas \"+\"Shafi\""
   ]
  },
  {
   "cell_type": "code",
   "execution_count": 74,
   "id": "6cb432d0-afaa-4376-b931-61555692ee1d",
   "metadata": {},
   "outputs": [
    {
     "data": {
      "text/plain": [
       "('Anas ', 'Shafi')"
      ]
     },
     "execution_count": 74,
     "metadata": {},
     "output_type": "execute_result"
    }
   ],
   "source": [
    "('Anas ', 'Shafi') # Will convert into tuple"
   ]
  },
  {
   "cell_type": "code",
   "execution_count": 75,
   "id": "a492e855-5381-42e0-89e1-26bca130e886",
   "metadata": {},
   "outputs": [
    {
     "name": "stdout",
     "output_type": "stream",
     "text": [
      "Anas  Shafi\n"
     ]
    }
   ],
   "source": [
    "print('Anas ', 'Shafi')"
   ]
  },
  {
   "cell_type": "code",
   "execution_count": 77,
   "id": "cb5ddc24-a095-4968-bf99-f8aa5dd48bbc",
   "metadata": {},
   "outputs": [
    {
     "data": {
      "text/plain": [
       "('Anas', 22.0, 65.5, True)"
      ]
     },
     "execution_count": 77,
     "metadata": {},
     "output_type": "execute_result"
    }
   ],
   "source": [
    "name, age, weight, is_present #again its converted into TUPLE"
   ]
  },
  {
   "cell_type": "code",
   "execution_count": 78,
   "id": "5ad6fd88-473e-4bb7-b7fb-0d983513b27d",
   "metadata": {},
   "outputs": [
    {
     "ename": "NameError",
     "evalue": "name 'prinr' is not defined",
     "output_type": "error",
     "traceback": [
      "\u001b[1;31m---------------------------------------------------------------------------\u001b[0m",
      "\u001b[1;31mNameError\u001b[0m                                 Traceback (most recent call last)",
      "Cell \u001b[1;32mIn[78], line 1\u001b[0m\n\u001b[1;32m----> 1\u001b[0m prinr(\u001b[38;5;124m\"\u001b[39m\u001b[38;5;124mStudent Name :\u001b[39m\u001b[38;5;124m\"\u001b[39m, name)\n",
      "\u001b[1;31mNameError\u001b[0m: name 'prinr' is not defined"
     ]
    }
   ],
   "source": [
    "prinr(\"Student Name :\", name)"
   ]
  },
  {
   "cell_type": "code",
   "execution_count": 79,
   "id": "7243cc15-f451-4caa-b7c6-722ad7f2ea88",
   "metadata": {},
   "outputs": [
    {
     "name": "stdout",
     "output_type": "stream",
     "text": [
      "Student Name : Anas\n"
     ]
    }
   ],
   "source": [
    "print(\"Student Name :\", name)"
   ]
  },
  {
   "cell_type": "code",
   "execution_count": 80,
   "id": "6c281b7a-a241-4831-a382-06b7f07ad7c3",
   "metadata": {},
   "outputs": [
    {
     "name": "stdout",
     "output_type": "stream",
     "text": [
      "Student Name : Anas\n"
     ]
    }
   ],
   "source": [
    "print(\"Student Name :\", name)"
   ]
  },
  {
   "cell_type": "code",
   "execution_count": 81,
   "id": "44838f58-b742-4e59-85af-4f86b386469f",
   "metadata": {},
   "outputs": [
    {
     "ename": "SyntaxError",
     "evalue": "invalid syntax. Perhaps you forgot a comma? (2347237718.py, line 3)",
     "output_type": "error",
     "traceback": [
      "\u001b[1;36m  Cell \u001b[1;32mIn[81], line 3\u001b[1;36m\u001b[0m\n\u001b[1;33m    print(\"Student weight ;\" weight)\u001b[0m\n\u001b[1;37m          ^\u001b[0m\n\u001b[1;31mSyntaxError\u001b[0m\u001b[1;31m:\u001b[0m invalid syntax. Perhaps you forgot a comma?\n"
     ]
    }
   ],
   "source": [
    "print(\"Student Name :\", name)\n",
    "print(\"Student age ;\". age)\n",
    "print(\"Student weight ;\" weight)\n",
    "      "
   ]
  },
  {
   "cell_type": "code",
   "execution_count": 84,
   "id": "44ea392a-4ed5-46ec-af6c-b89be640036c",
   "metadata": {},
   "outputs": [
    {
     "name": "stdout",
     "output_type": "stream",
     "text": [
      "Student Name : Anas\n",
      "Student age : 22.0\n",
      "Student weight : 65.5\n"
     ]
    }
   ],
   "source": [
    "#Method : 1 Concenteration with + {requires type cast}\n",
    "\n",
    "print(\"Student Name :\", name)\n",
    "print(\"Student age :\", age)\n",
    "print(\"Student weight :\", weight)"
   ]
  },
  {
   "cell_type": "code",
   "execution_count": 85,
   "id": "37318ad6-f211-4a05-94b1-d87189ce7170",
   "metadata": {},
   "outputs": [
    {
     "name": "stdout",
     "output_type": "stream",
     "text": [
      "Student Name : Anas\n",
      "Student age : 22.0\n",
      "Student weight : 65.5\n"
     ]
    }
   ],
   "source": [
    "#Method : 1 Concenteration with f --> Formating\n",
    "\n",
    "print(f\"Student Name : {name}\")\n",
    "print(f\"Student age : {age}\")\n",
    "print(f\"Student weight : {weight}\")"
   ]
  },
  {
   "cell_type": "code",
   "execution_count": 86,
   "id": "ed9c509b-7de6-4b3f-8102-c5958a803b5e",
   "metadata": {},
   "outputs": [
    {
     "name": "stdout",
     "output_type": "stream",
     "text": [
      "Hello, World!\n"
     ]
    }
   ],
   "source": [
    "greeting = \"Hello\"\n",
    "separators = \", \"\n",
    "addressee = \"World\"\n",
    "punc = \"!\"\n",
    "whole_greeting = greeting + separators + addressee + punc\n",
    "print(whole_greeting)"
   ]
  },
  {
   "cell_type": "code",
   "execution_count": 1,
   "id": "b318e78b-3ab8-40be-9825-2f89f28bf387",
   "metadata": {},
   "outputs": [
    {
     "data": {
      "text/plain": [
       "3.0"
      ]
     },
     "execution_count": 1,
     "metadata": {},
     "output_type": "execute_result"
    }
   ],
   "source": [
    "6/2"
   ]
  },
  {
   "cell_type": "code",
   "execution_count": 2,
   "id": "7b18c9cf-b8ea-4ac9-bb12-a808d34cbbbb",
   "metadata": {},
   "outputs": [
    {
     "data": {
      "text/plain": [
       "0.875"
      ]
     },
     "execution_count": 2,
     "metadata": {},
     "output_type": "execute_result"
    }
   ],
   "source": [
    "7/8"
   ]
  },
  {
   "cell_type": "code",
   "execution_count": 3,
   "id": "4bb1a50e-0d9f-4cf4-b53a-d8b8f6fc7f1c",
   "metadata": {},
   "outputs": [
    {
     "ename": "AttributeError",
     "evalue": "module 'math' has no attribute 'ciel'",
     "output_type": "error",
     "traceback": [
      "\u001b[1;31m---------------------------------------------------------------------------\u001b[0m",
      "\u001b[1;31mAttributeError\u001b[0m                            Traceback (most recent call last)",
      "Cell \u001b[1;32mIn[3], line 4\u001b[0m\n\u001b[0;32m      1\u001b[0m \u001b[38;5;28;01mimport\u001b[39;00m \u001b[38;5;21;01mmath\u001b[39;00m\n\u001b[0;32m      3\u001b[0m x \u001b[38;5;241m=\u001b[39m \u001b[38;5;241m7\u001b[39m\u001b[38;5;241m/\u001b[39m\u001b[38;5;241m8\u001b[39m\n\u001b[1;32m----> 4\u001b[0m y \u001b[38;5;241m=\u001b[39m (math\u001b[38;5;241m.\u001b[39mciel(x))\n\u001b[0;32m      5\u001b[0m \u001b[38;5;28mprint\u001b[39m(\u001b[38;5;124m'\u001b[39m\u001b[38;5;124mresult is\u001b[39m\u001b[38;5;124m'\u001b[39m,y)\n",
      "\u001b[1;31mAttributeError\u001b[0m: module 'math' has no attribute 'ciel'"
     ]
    }
   ],
   "source": [
    "import math\n",
    "\n",
    "x = 7/8\n",
    "y = (math.ciel(x))\n",
    "print('result is',y)"
   ]
  },
  {
   "cell_type": "code",
   "execution_count": 5,
   "id": "040de930-68cd-4f41-887d-39d73998b023",
   "metadata": {},
   "outputs": [
    {
     "name": "stdout",
     "output_type": "stream",
     "text": [
      "result is 1\n"
     ]
    }
   ],
   "source": [
    "import math\n",
    "\n",
    "x = 7/8\n",
    "y = (math.ceil(x))\n",
    "print('result is',y)"
   ]
  },
  {
   "cell_type": "code",
   "execution_count": 6,
   "id": "9720c90a-a718-47ea-8e51-80a54beb6ed0",
   "metadata": {},
   "outputs": [
    {
     "data": {
      "text/plain": [
       "0"
      ]
     },
     "execution_count": 6,
     "metadata": {},
     "output_type": "execute_result"
    }
   ],
   "source": [
    "7//8"
   ]
  },
  {
   "cell_type": "code",
   "execution_count": 7,
   "id": "843a1b18-4870-4557-974a-18bae52ccf50",
   "metadata": {},
   "outputs": [
    {
     "data": {
      "text/plain": [
       "343"
      ]
     },
     "execution_count": 7,
     "metadata": {},
     "output_type": "execute_result"
    }
   ],
   "source": [
    "7**3"
   ]
  },
  {
   "cell_type": "code",
   "execution_count": 8,
   "id": "202af75a-79e8-4b8a-a102-f5bffaa6c2a0",
   "metadata": {},
   "outputs": [
    {
     "ename": "SyntaxError",
     "evalue": "invalid syntax (2219393501.py, line 1)",
     "output_type": "error",
     "traceback": [
      "\u001b[1;36m  Cell \u001b[1;32mIn[8], line 1\u001b[1;36m\u001b[0m\n\u001b[1;33m    8***2\u001b[0m\n\u001b[1;37m       ^\u001b[0m\n\u001b[1;31mSyntaxError\u001b[0m\u001b[1;31m:\u001b[0m invalid syntax\n"
     ]
    }
   ],
   "source": [
    "8***2"
   ]
  },
  {
   "cell_type": "code",
   "execution_count": 1,
   "id": "2c7a767f-05ee-44e2-aedb-3100b9451536",
   "metadata": {},
   "outputs": [
    {
     "name": "stdout",
     "output_type": "stream",
     "text": [
      "Anas\n"
     ]
    }
   ],
   "source": [
    "print(\"Anas\")"
   ]
  },
  {
   "cell_type": "code",
   "execution_count": 2,
   "id": "5ee175d1-ad08-42bf-b5eb-532706419afc",
   "metadata": {},
   "outputs": [
    {
     "name": "stdout",
     "output_type": "stream",
     "text": [
      "result is 1\n"
     ]
    }
   ],
   "source": [
    "import math\n",
    "\n",
    "x = 9/11\n",
    "y = (math.ceil(x))\n",
    "print ('result is',y)"
   ]
  },
  {
   "cell_type": "code",
   "execution_count": null,
   "id": "2db399f0-12f4-4a30-81ee-15bfa70f6995",
   "metadata": {},
   "outputs": [],
   "source": []
  }
 ],
 "metadata": {
  "kernelspec": {
   "display_name": "Python 3 (ipykernel)",
   "language": "python",
   "name": "python3"
  },
  "language_info": {
   "codemirror_mode": {
    "name": "ipython",
    "version": 3
   },
   "file_extension": ".py",
   "mimetype": "text/x-python",
   "name": "python",
   "nbconvert_exporter": "python",
   "pygments_lexer": "ipython3",
   "version": "3.11.7"
  }
 },
 "nbformat": 4,
 "nbformat_minor": 5
}
